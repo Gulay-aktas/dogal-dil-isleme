{
 "cells": [
  {
   "cell_type": "code",
   "execution_count": 3,
   "metadata": {},
   "outputs": [],
   "source": [
    "import re"
   ]
  },
  {
   "cell_type": "code",
   "execution_count": 4,
   "metadata": {},
   "outputs": [
    {
     "name": "stdout",
     "output_type": "stream",
     "text": [
      "İsimleri Yazın:Ayşe\n",
      "İsimleri Yazın:Ahmet\n",
      "İsimleri Yazın:Murat\n",
      "İsimleri Yazın:Selma\n",
      "İsimleri Yazın:Yağız\n"
     ]
    }
   ],
   "source": [
    "Ad_listesi =  []\n",
    "for i in range(5):\n",
    "    Ad = input(\"İsimleri Yazın:\")\n",
    "    Ad_listesi.append(Ad)"
   ]
  },
  {
   "cell_type": "code",
   "execution_count": 5,
   "metadata": {},
   "outputs": [
    {
     "name": "stdout",
     "output_type": "stream",
     "text": [
      "['Ayşe', 'Ahmet', 'Selma']\n"
     ]
    }
   ],
   "source": [
    "ArananSonuclar = []\n",
    "ayrac = r\"^[A]\"\n",
    "ayrac2 = r\"[e]\"\n",
    "for isim in Ad_listesi:\n",
    "    if re.search(ayrac, isim) or re.search(ayrac2, isim):\n",
    "        ArananSonuclar.append(isim)\n",
    "print(ArananSonuclar)"
   ]
  },
  {
   "cell_type": "code",
   "execution_count": null,
   "metadata": {},
   "outputs": [],
   "source": []
  },
  {
   "cell_type": "code",
   "execution_count": null,
   "metadata": {},
   "outputs": [],
   "source": []
  }
 ],
 "metadata": {
  "kernelspec": {
   "display_name": "Python 3",
   "language": "python",
   "name": "python3"
  },
  "language_info": {
   "codemirror_mode": {
    "name": "ipython",
    "version": 3
   },
   "file_extension": ".py",
   "mimetype": "text/x-python",
   "name": "python",
   "nbconvert_exporter": "python",
   "pygments_lexer": "ipython3",
   "version": "3.8.5"
  }
 },
 "nbformat": 4,
 "nbformat_minor": 4
}
