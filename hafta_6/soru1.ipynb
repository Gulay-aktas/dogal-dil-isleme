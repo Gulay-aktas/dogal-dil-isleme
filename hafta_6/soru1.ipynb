{
 "cells": [
  {
   "cell_type": "code",
   "execution_count": 1,
   "metadata": {},
   "outputs": [],
   "source": [
    "import re"
   ]
  },
  {
   "cell_type": "code",
   "execution_count": 2,
   "metadata": {},
   "outputs": [
    {
     "name": "stdout",
     "output_type": "stream",
     "text": [
      "E-posta Adresinizi Yazın:aktasgulay84@gmail.com\n"
     ]
    }
   ],
   "source": [
    "EmailAdresi = input(\"E-posta Adresinizi Yazın:\")"
   ]
  },
  {
   "cell_type": "code",
   "execution_count": 3,
   "metadata": {},
   "outputs": [
    {
     "name": "stdout",
     "output_type": "stream",
     "text": [
      "Kullanıcı Adınız:  aktasgulay84\n",
      "Domain Adınız:  gmail.com\n"
     ]
    }
   ],
   "source": [
    "ayrac = \"@\"\n",
    "EmailDomain_Liste = re.split(ayrac,EmailAdresi)\n",
    "print(\"Kullanıcı Adınız: \", EmailDomain_Liste[0])\n",
    "print(\"Domain Adınız: \", EmailDomain_Liste[1])"
   ]
  },
  {
   "cell_type": "code",
   "execution_count": null,
   "metadata": {},
   "outputs": [],
   "source": []
  }
 ],
 "metadata": {
  "kernelspec": {
   "display_name": "Python 3",
   "language": "python",
   "name": "python3"
  },
  "language_info": {
   "codemirror_mode": {
    "name": "ipython",
    "version": 3
   },
   "file_extension": ".py",
   "mimetype": "text/x-python",
   "name": "python",
   "nbconvert_exporter": "python",
   "pygments_lexer": "ipython3",
   "version": "3.8.5"
  }
 },
 "nbformat": 4,
 "nbformat_minor": 4
}
